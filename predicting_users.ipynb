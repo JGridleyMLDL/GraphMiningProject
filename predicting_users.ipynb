{
 "cells": [
  {
   "cell_type": "code",
   "execution_count": 1,
   "metadata": {},
   "outputs": [],
   "source": [
    "import pandas as pd\n",
    "import networkx as nx\n",
    "from networkx.algorithms import bipartite\n",
    "import random\n",
    "\n",
    "import matplotlib as mlp\n",
    "import matplotlib.pyplot as plt\n",
    "import cupy as cp\n",
    "import numpy as np\n",
    "from tqdm import tqdm\n",
    "from sklearn import metrics\n",
    "from scipy.optimize import curve_fit\n",
    "\n",
    "\n",
    "import control\n",
    "import make_query\n",
    "import mining\n",
    "import queries\n",
    "import utils\n",
    "import visualizations\n"
   ]
  },
  {
   "cell_type": "markdown",
   "metadata": {},
   "source": [
    "### Importing Temporal User Data from:\n",
    "- Uniswap\n",
    "- Compound\n",
    "- Decentraland\n",
    "- AAVE\n",
    "- Balancer\n",
    "- 1INCH\n",
    "\n",
    "The timeframe is from 1638334800 to 1648785600"
   ]
  },
  {
   "cell_type": "code",
   "execution_count": 2,
   "metadata": {},
   "outputs": [],
   "source": [
    "# Open all the data\n",
    "\n",
    "# Aggregate and add defi label\n",
    "\n",
    "# bipatite matching like with amazon"
   ]
  },
  {
   "cell_type": "code",
   "execution_count": 3,
   "metadata": {},
   "outputs": [],
   "source": [
    "aave = pd.read_csv(\"user_prediction_data/aave_data.csv\")\n",
    "axie = pd.read_csv(\"user_prediction_data/axie_data.csv\")\n",
    "balancer = pd.read_csv(\"user_prediction_data/balancer_data.csv\")\n",
    "compound = pd.read_csv(\"user_prediction_data/compound_data.csv\")\n",
    "decentraland = pd.read_csv(\"user_prediction_data/decentraland_data.csv\")\n",
    "oneInch = pd.read_csv(\"user_prediction_data/one_inch_data.csv\")\n",
    "uniswap = pd.read_csv(\"user_prediction_data/uniswap_data.csv\")\n"
   ]
  },
  {
   "cell_type": "code",
   "execution_count": 4,
   "metadata": {},
   "outputs": [],
   "source": [
    "def extract_users(df, col_name1, col_name2=\"\", time_col=\"timestamp\"):\n",
    "    users = df[[col_name1, time_col]]\n",
    "    users.columns = [\"address\", \"time\"]\n",
    "    \n",
    "    if col_name2 != \"\":\n",
    "        more_users = df[[col_name2, time_col]]\n",
    "        more_users.columns = [\"address\", \"time\"]\n",
    "        users = pd.concat([users, more_users], axis=0)\n",
    "    \n",
    "    users.drop_duplicates()\n",
    "    print(users.columns)\n",
    "    \n",
    "    return users\n"
   ]
  },
  {
   "cell_type": "code",
   "execution_count": 5,
   "metadata": {},
   "outputs": [
    {
     "name": "stdout",
     "output_type": "stream",
     "text": [
      "Index(['address', 'time'], dtype='object')\n",
      "Index(['address', 'time'], dtype='object')\n",
      "Index(['address', 'time'], dtype='object')\n",
      "Index(['address', 'time'], dtype='object')\n",
      "Index(['address', 'time'], dtype='object')\n",
      "Index(['address', 'time'], dtype='object')\n",
      "Index(['address', 'time'], dtype='object')\n"
     ]
    },
    {
     "name": "stderr",
     "output_type": "stream",
     "text": [
      "C:\\Users\\gridl\\AppData\\Local\\Temp/ipykernel_16032/2943698597.py:2: SettingWithCopyWarning: \n",
      "A value is trying to be set on a copy of a slice from a DataFrame.\n",
      "Try using .loc[row_indexer,col_indexer] = value instead\n",
      "\n",
      "See the caveats in the documentation: https://pandas.pydata.org/pandas-docs/stable/user_guide/indexing.html#returning-a-view-versus-a-copy\n",
      "  aave_users[\"DeFi_APP\"] = \"Aave\"\n",
      "C:\\Users\\gridl\\AppData\\Local\\Temp/ipykernel_16032/2943698597.py:6: SettingWithCopyWarning: \n",
      "A value is trying to be set on a copy of a slice from a DataFrame.\n",
      "Try using .loc[row_indexer,col_indexer] = value instead\n",
      "\n",
      "See the caveats in the documentation: https://pandas.pydata.org/pandas-docs/stable/user_guide/indexing.html#returning-a-view-versus-a-copy\n",
      "  balancer_users[\"DeFi_APP\"] = \"Balancer\"\n"
     ]
    }
   ],
   "source": [
    "aave_users = extract_users(aave, \"user.id\")\n",
    "aave_users[\"DeFi_APP\"] = \"Aave\"\n",
    "axie_users = extract_users(axie, \"from.id\", \"to.id\")\n",
    "axie_users[\"DeFi_APP\"] = \"Axie\"\n",
    "balancer_users = extract_users(balancer, \"userAddress.id\")\n",
    "balancer_users[\"DeFi_APP\"] = \"Balancer\"\n",
    "compound_users = extract_users(compound, \"to\", \"from\", \"blockTime\")\n",
    "compound_users[\"DeFi_APP\"] = \"Compound\"\n",
    "decentraland_users = extract_users(decentraland, \"buyer\", \"seller\")\n",
    "decentraland_users[\"DeFi_APP\"] = \"Decentraland\"\n",
    "one_inch_users = extract_users(oneInch, \"from.id\", \"to.id\")\n",
    "one_inch_users[\"DeFi_APP\"] = \"1Inch\"\n",
    "uniswap_users = extract_users(uniswap, \"sender\", \"to\")\n",
    "uniswap_users[\"DeFi_APP\"] = \"UniswapV2\"\n"
   ]
  },
  {
   "cell_type": "code",
   "execution_count": 6,
   "metadata": {},
   "outputs": [],
   "source": [
    "dfs = [aave_users, axie_users, balancer_users, compound_users, decentraland_users, one_inch_users, uniswap_users]\n",
    "\n",
    "user_data = pd.concat(dfs)\n",
    "\n",
    "#user_data.drop_duplicates(subset=user_data.columns.difference(['time']))\n"
   ]
  },
  {
   "cell_type": "code",
   "execution_count": 7,
   "metadata": {},
   "outputs": [
    {
     "name": "stdout",
     "output_type": "stream",
     "text": [
      "(301518, 3)\n",
      "(241214, 3)\n"
     ]
    }
   ],
   "source": [
    "sorted_user_data = user_data.sort_values(by = [\"time\"])\n",
    "print(sorted_user_data.shape)\n",
    "\n",
    "train_data = sorted_user_data.head(int(len(sorted_user_data)*(0.8)))\n",
    "print(train_data.shape)\n"
   ]
  },
  {
   "cell_type": "code",
   "execution_count": 8,
   "metadata": {},
   "outputs": [],
   "source": [
    "# this is generating a bipartite graph that is will have the the defi apps as one row and the addresses as another\n",
    "\n",
    "\n",
    "def generate_bipartite_graph(df, source, target, edge):\n",
    "    top = set(df[source])\n",
    "    bot = set(df[target])\n",
    "    \n",
    "    G_nums = nx.from_pandas_edgelist(\n",
    "        df, source, target, edge)\n",
    "    edges = G_nums.edges(data=True)\n",
    "    \n",
    "    G_bi = nx.Graph()\n",
    "    G_bi.add_nodes_from(top, bipartite=0)\n",
    "    G_bi.add_nodes_from(bot, bipartite=1)\n",
    "    G_bi.add_edges_from(edges)\n",
    "    print(G_bi)\n",
    "    \n",
    "    return G_bi\n",
    "\n",
    "\n"
   ]
  },
  {
   "cell_type": "code",
   "execution_count": 9,
   "metadata": {},
   "outputs": [
    {
     "name": "stdout",
     "output_type": "stream",
     "text": [
      "(4472, 3)\n",
      "Graph with 4453 nodes and 4472 edges\n"
     ]
    }
   ],
   "source": [
    "\n",
    "# Dataframe to get counts for the number of times a user used a platform\n",
    "df_count = sorted_user_data.groupby(\n",
    "    [\"address\", \"DeFi_APP\"], as_index=False).size()\n",
    "\n",
    "\n",
    "# testing on a random subset for visualization\n",
    "df_count_small = df_count.sample(frac=0.1, random_state=34)\n",
    "print(df_count_small.shape)\n",
    "\n",
    "# generating the bipartite graph\n",
    "G_bi = generate_bipartite_graph(df_count_small, \"DeFi_APP\", \"address\", \"size\")\n"
   ]
  },
  {
   "cell_type": "code",
   "execution_count": 10,
   "metadata": {},
   "outputs": [
    {
     "data": {
      "text/plain": [
       "False"
      ]
     },
     "execution_count": 10,
     "metadata": {},
     "output_type": "execute_result"
    }
   ],
   "source": [
    "#nx.draw(G_bi)\n",
    "nx.is_connected(G_bi)"
   ]
  },
  {
   "cell_type": "code",
   "execution_count": 11,
   "metadata": {},
   "outputs": [
    {
     "name": "stdout",
     "output_type": "stream",
     "text": [
      "Graph with 4466 nodes and 4472 edges\n",
      "Graph with 4460 nodes and 4472 edges\n",
      "Graph with 4453 nodes and 4472 edges\n",
      "Graph with 4453 nodes and 4472 edges\n",
      "Graph with 4448 nodes and 4472 edges\n",
      "Graph with 4459 nodes and 4472 edges\n",
      "Graph with 4449 nodes and 4472 edges\n",
      "Graph with 4445 nodes and 4472 edges\n",
      "Graph with 4455 nodes and 4472 edges\n",
      "Graph with 4452 nodes and 4472 edges\n",
      "Random State: 11\n"
     ]
    }
   ],
   "source": [
    "conn = False\n",
    "n=1\n",
    "while conn == False:\n",
    "    df_count_small = df_count.sample(frac=0.1, random_state=n)\n",
    "    G_bi = generate_bipartite_graph(df_count_small, \"DeFi_APP\", \"address\", \"size\")\n",
    "    conn = nx.is_connected(G_bi)\n",
    "    n+=1\n",
    "print(\"Random State:\", str(n))"
   ]
  },
  {
   "cell_type": "code",
   "execution_count": 31,
   "metadata": {},
   "outputs": [
    {
     "data": {
      "text/plain": [
       "12"
      ]
     },
     "execution_count": 31,
     "metadata": {},
     "output_type": "execute_result"
    }
   ],
   "source": []
  },
  {
   "cell_type": "code",
   "execution_count": 12,
   "metadata": {},
   "outputs": [
    {
     "name": "stdout",
     "output_type": "stream",
     "text": [
      "Getting Layout\n",
      "Getting adjacency matrix\n",
      "[[0 0 0 ... 0 0 0]\n",
      " [0 0 0 ... 0 0 0]\n",
      " [0 0 0 ... 0 0 0]\n",
      " ...\n",
      " [0 0 0 ... 0 0 0]\n",
      " [0 0 0 ... 0 0 0]\n",
      " [0 0 0 ... 0 0 0]]\n"
     ]
    }
   ],
   "source": [
    "# get layout\n",
    "print(\"Getting Layout\")\n",
    "top = nx.bipartite.sets(G_bi)[0]\n",
    "pos = nx.bipartite_layout(G_bi, top)\n",
    "\n",
    "print(\"Getting adjacency matrix\")\n",
    "# get adjacency matrix\n",
    "A = nx.adjacency_matrix(G_bi)\n",
    "A = A.toarray()\n",
    "\n",
    "print(A)\n",
    "\n"
   ]
  },
  {
   "cell_type": "code",
   "execution_count": 13,
   "metadata": {},
   "outputs": [
    {
     "name": "stdout",
     "output_type": "stream",
     "text": [
      "train: Graph with 4452 nodes and 3354 edges\n",
      "train: Graph with 1122 nodes and 1118 edges\n"
     ]
    },
    {
     "name": "stderr",
     "output_type": "stream",
     "text": [
      "C:\\Users\\gridl\\AppData\\Local\\Temp/ipykernel_16032/2499527120.py:4: DeprecationWarning: Sampling from a set deprecated\n",
      "since Python 3.9 and will be removed in a subsequent version.\n",
      "  edge_subset = random.sample(G_bi.edges(), int(proportion_edges * G_bi.number_of_edges()))\n"
     ]
    }
   ],
   "source": [
    "# Remove 25% of the edges\n",
    "proportion_edges = 0.25\n",
    "# this is our test set\n",
    "edge_subset = random.sample(G_bi.edges(), int(proportion_edges * G_bi.number_of_edges()))\n",
    "\n",
    "# Create a copy of the graph and remove the edges\n",
    "B_train = G_bi.copy()\n",
    "B_train.remove_edges_from(edge_subset)\n",
    "print(\"train:\", B_train)\n",
    "\n",
    "B_test = nx.Graph()\n",
    "B_test.add_edges_from(edge_subset)\n",
    "print(\"train:\", B_test)\n"
   ]
  },
  {
   "cell_type": "markdown",
   "metadata": {},
   "source": [
    "Neighbor methods will only predict existing edges between the same sets. This is because two vertices from different sets will never share common neighbors, resulting in a 0 MAP score. "
   ]
  },
  {
   "cell_type": "code",
   "execution_count": 14,
   "metadata": {},
   "outputs": [
    {
     "data": {
      "text/plain": [
       "(4452, 4452)"
      ]
     },
     "execution_count": 14,
     "metadata": {},
     "output_type": "execute_result"
    }
   ],
   "source": [
    "A_train = nx.adjacency_matrix(B_train)\n",
    "A_train = A_train.toarray()\n",
    "A_train.shape\n",
    "\n",
    "\n"
   ]
  },
  {
   "cell_type": "code",
   "execution_count": 18,
   "metadata": {},
   "outputs": [],
   "source": [
    "A = cp.array(A)\n",
    "A_train = cp.array(A_train)"
   ]
  },
  {
   "cell_type": "code",
   "execution_count": 19,
   "metadata": {},
   "outputs": [
    {
     "name": "stdout",
     "output_type": "stream",
     "text": [
      "Found Eigenvalue Decomposition!\n",
      "Found Target!\n"
     ]
    }
   ],
   "source": [
    "# eigenvalue decomposition\n",
    "V_train, U_train = cp.linalg.eigh(A_train)\n",
    "print(\"Found Eigenvalue Decomposition!\")\n",
    "# U.T * Atest * U\n",
    "target_V = U_train.T @ A @ U_train\n",
    "print(\"Found Target!\")\n",
    "# take only the diagonals\n",
    "target_V = cp.diag(target_V)\n"
   ]
  },
  {
   "cell_type": "code",
   "execution_count": 20,
   "metadata": {},
   "outputs": [
    {
     "data": {
      "image/png": "[encoded data removed]",
      "text/plain": [
       "<Figure size 360x216 with 1 Axes>"
      ]
     },
     "metadata": {
      "needs_background": "light"
     },
     "output_type": "display_data"
    }
   ],
   "source": [
    "# plot the pattern\n",
    "plt.figure(figsize=(5, 3))\n",
    "plt.xlabel(\"V_train\")\n",
    "plt.ylabel(\"V_test\")\n",
    "plt.scatter(V_train.get(), target_V.get(), c='b')\n",
    "plt.show()"
   ]
  },
  {
   "cell_type": "code",
   "execution_count": 21,
   "metadata": {},
   "outputs": [],
   "source": [
    "# odd path counting kernel function\n",
    "class OddPathCountingKernel:\n",
    "    def __init__(self):\n",
    "        self.a1 = 0\n",
    "        self.a3 = 0\n",
    "        self.a5 = 0\n",
    "        self.a7 = 0\n",
    "        \n",
    "    def func(self, V, a1, a3, a5, a7):   \n",
    "        return V * a1 + V**3 * a3 + V**5 * a5 + V**7 * a7\n",
    "    def fit(self, V_train, target_V):\n",
    "        # do curve fitting\n",
    "        popt, pcov = curve_fit(self.func, V_train, target_V)\n",
    "        self.a1, self.a3, self.a5, self.a7 = popt\n",
    "    def pred(self, V_train):\n",
    "        return self.func(V_train, self.a1, self.a3, self.a5, self.a7)"
   ]
  },
  {
   "cell_type": "code",
   "execution_count": 78,
   "metadata": {},
   "outputs": [
    {
     "name": "stdout",
     "output_type": "stream",
     "text": [
      "<__main__.OddPathCountingKernel object at 0x000002C1DFA7A5E0>\n"
     ]
    },
    {
     "data": {
      "image/png": "[encoded data removed]",
      "text/plain": [
       "<Figure size 360x216 with 1 Axes>"
      ]
     },
     "metadata": {
      "needs_background": "light"
     },
     "output_type": "display_data"
    }
   ],
   "source": [
    "# fit kernel function\n",
    "\n",
    "for kernel in [OddPathCountingKernel() ]:\n",
    "    print(kernel)\n",
    "    # fit the kernel to the data    \n",
    "    kernel.fit(V_train.get(), target_V.get())\n",
    "    # predict the output\n",
    "    V_pred = kernel.pred(V_train.get())\n",
    "    # assume our function is exponential V_train with alpha = 0.6\n",
    "    plt.figure(figsize=(5, 3))\n",
    "    plt.xlabel(\"V_train\")\n",
    "    plt.ylabel(\"V_test\")\n",
    "    plt.scatter(V_train.get(), target_V.get(), c='b', label=\"target_V\", s=40)\n",
    "    plt.scatter(V_train.get(), V_pred, c='r', label=\"predicted_V\", s=20)\n",
    "    plt.legend()\n",
    "    plt.savefig(\"regression_fit.png\")\n",
    "    plt.show()\n",
    "    \n",
    "    # transformation\n",
    "    Apred = U_train @ cp.diag(cp.array(V_pred)) @ U_train.T\n",
    "    Apred = Apred.real\n",
    "    # make edges of prediction\n",
    "    pred = [(n, m, Apred[i, j]) for i, n in enumerate(G_bi.nodes()) for j, m in enumerate(G_bi.nodes())]\n",
    "    # create graph\n",
    "    G_pred = nx.Graph()\n",
    "    G_pred.add_weighted_edges_from(pred)\n",
    "    # evaluate MAP and precision\n",
    "    "
   ]
  },
  {
   "cell_type": "code",
   "execution_count": null,
   "metadata": {},
   "outputs": [],
   "source": []
  },
  {
   "cell_type": "code",
   "execution_count": 76,
   "metadata": {},
   "outputs": [],
   "source": [
    "def ROC_PRC(pred, G):\n",
    "    # prediction score\n",
    "    y_score = [p[2].get() for p in pred]\n",
    "    # groundtruth label\n",
    "    y_true = [G.has_edge(p[0], p[1]) for p in pred]\n",
    "    fig, (ax1, ax2) = plt.subplots(1, 2)\n",
    "    # precision-recall curve\n",
    "    y_score = np.array(y_score)\n",
    "    y_true = np.array(y_true)\n",
    "\n",
    "    fpr, tpr, thresholds = metrics.precision_recall_curve(y_true,  y_score)\n",
    "    ax1.plot(fpr, tpr)\n",
    "    ax1.set_title(\"Precision-Recall Curve\")\n",
    "    ax1.set_xlabel(\"Recall\")\n",
    "    ax1.set_ylabel(\"Precision\")\n",
    "    \n",
    "    # receiver-operating characteristic curve\n",
    "    fpr, tpr, thresholds = metrics.roc_curve(y_true, y_score)\n",
    "    ax2.plot(fpr, tpr)\n",
    "    ax2.set_title(\"ROC Curve, AUC = {:.2f}\".format(\n",
    "        metrics.roc_auc_score(y_true, y_score)))\n",
    "    ax2.set_xlabel(\"False Positive Rate\")\n",
    "    ax1.set_ylabel(\"True Positive Rate\")\n",
    "    plt.savefig(\"curve.png\")\n",
    "    plt.show()\n"
   ]
  },
  {
   "cell_type": "code",
   "execution_count": 48,
   "metadata": {},
   "outputs": [],
   "source": [
    "pred_txs = pred[0:5000000]"
   ]
  },
  {
   "cell_type": "code",
   "execution_count": 45,
   "metadata": {},
   "outputs": [
    {
     "data": {
      "text/plain": [
       "19820304"
      ]
     },
     "execution_count": 45,
     "metadata": {},
     "output_type": "execute_result"
    }
   ],
   "source": [
    "len(pred)"
   ]
  },
  {
   "cell_type": "code",
   "execution_count": null,
   "metadata": {},
   "outputs": [],
   "source": [
    "# Remove 25% of the edges\n",
    "proportion_edges = 0.5\n",
    "# this is our test set\n",
    "edge_subset_jc = random.sample(G_bi.edges(), int(proportion_edges * G_bi.number_of_edges()))\n",
    "\n",
    "# Create a copy of the graph and remove the edges\n",
    "JC_train = G_bi.copy()\n",
    "\n"
   ]
  },
  {
   "cell_type": "code",
   "execution_count": 50,
   "metadata": {},
   "outputs": [],
   "source": [
    "jaccard_pred = list(nx.jaccard_coefficient(B_train))\n"
   ]
  },
  {
   "cell_type": "code",
   "execution_count": 58,
   "metadata": {},
   "outputs": [
    {
     "data": {
      "text/plain": [
       "9904572"
      ]
     },
     "execution_count": 58,
     "metadata": {},
     "output_type": "execute_result"
    }
   ],
   "source": [
    "len(jaccard_pred)"
   ]
  },
  {
   "cell_type": "code",
   "execution_count": 62,
   "metadata": {},
   "outputs": [
    {
     "data": {
      "text/plain": [
       "[('0x9a98a1edd7b1c8e34a2d657eefa718d0f8434ac8',\n",
       "  '0xdb32f521a2426b5e7150eb73ef8d0916d809637b',\n",
       "  1.0),\n",
       " ('0x9a98a1edd7b1c8e34a2d657eefa718d0f8434ac8',\n",
       "  '0x0b152d7b2c1b04b8d42672be3bca3c3c56402e1f',\n",
       "  1.0),\n",
       " ('0x9a98a1edd7b1c8e34a2d657eefa718d0f8434ac8',\n",
       "  '0x9cb7bcec3664fac3830bfca64ae61fece75bfdef',\n",
       "  1.0),\n",
       " ('0x9a98a1edd7b1c8e34a2d657eefa718d0f8434ac8',\n",
       "  '0x853d526fd83e1da3baaac706db3283f026f94eb0',\n",
       "  1.0),\n",
       " ('0x9a98a1edd7b1c8e34a2d657eefa718d0f8434ac8',\n",
       "  '0xabd5a8842740c151d18fece7eb901a7a185990c0',\n",
       "  1.0),\n",
       " ('0x9a98a1edd7b1c8e34a2d657eefa718d0f8434ac8',\n",
       "  '0x1749ad951fb612b42dc105944da86c362a783487',\n",
       "  1.0),\n",
       " ('0x9a98a1edd7b1c8e34a2d657eefa718d0f8434ac8',\n",
       "  '0xcab72c950d3971baf129392edf644a6cb4a18be1',\n",
       "  1.0),\n",
       " ('0x9a98a1edd7b1c8e34a2d657eefa718d0f8434ac8',\n",
       "  '0x3c2262255793f2b4629f7b9a2d57ce78f7842a8d',\n",
       "  1.0),\n",
       " ('0x9a98a1edd7b1c8e34a2d657eefa718d0f8434ac8',\n",
       "  '0x10e4f5559d3a5ca450389ef84b29a767c1b24a56',\n",
       "  1.0),\n",
       " ('0x9a98a1edd7b1c8e34a2d657eefa718d0f8434ac8',\n",
       "  '0x693d196cd3c7a5b383c46f752b3ded9b298bde37',\n",
       "  1.0),\n",
       " ('0x9a98a1edd7b1c8e34a2d657eefa718d0f8434ac8',\n",
       "  '0x04f648bb839033bba7c6341529bd7dd6fd6d413e',\n",
       "  1.0),\n",
       " ('0x9a98a1edd7b1c8e34a2d657eefa718d0f8434ac8',\n",
       "  '0x8639eb2f2e9db036b57ff1eaf4643cedaf2e0f65',\n",
       "  1.0),\n",
       " ('0x9a98a1edd7b1c8e34a2d657eefa718d0f8434ac8',\n",
       "  '0x4269bf9727ed052c40e6f127ee0dd5e2ddee6289',\n",
       "  1.0),\n",
       " ('0x9a98a1edd7b1c8e34a2d657eefa718d0f8434ac8',\n",
       "  '0xe65130c719584a68d48e2968e79e19d5daf1e983',\n",
       "  1.0),\n",
       " ('0x9a98a1edd7b1c8e34a2d657eefa718d0f8434ac8',\n",
       "  '0xab4516800a556341c761b4b6eeb48942a5e390e3',\n",
       "  1.0),\n",
       " ('0x9a98a1edd7b1c8e34a2d657eefa718d0f8434ac8',\n",
       "  '0x99913d7da0af8ae9519daab590ff2426e69f67cc',\n",
       "  1.0),\n",
       " ('0x9a98a1edd7b1c8e34a2d657eefa718d0f8434ac8',\n",
       "  '0x4a07acd967b911c9c104178295fce9a0f579ac02',\n",
       "  1.0),\n",
       " ('0x9a98a1edd7b1c8e34a2d657eefa718d0f8434ac8',\n",
       "  '0x844203780009ed82a1d2c9c220f71f88091f018e',\n",
       "  1.0),\n",
       " ('0x9a98a1edd7b1c8e34a2d657eefa718d0f8434ac8',\n",
       "  '0x28fd71d8fe739a6de7bce970a4ee49814c6e1be0',\n",
       "  1.0),\n",
       " ('0x9a98a1edd7b1c8e34a2d657eefa718d0f8434ac8',\n",
       "  '0x01cb023186cab05220554ee75b4d69921dd051f1',\n",
       "  1.0),\n",
       " ('0x9a98a1edd7b1c8e34a2d657eefa718d0f8434ac8',\n",
       "  '0xa24167618b9b26b6cdcfdb4ea451110670bdda68',\n",
       "  1.0),\n",
       " ('0x9a98a1edd7b1c8e34a2d657eefa718d0f8434ac8',\n",
       "  '0x087d7f1f2ff5d122058024186655dfd51b20d07b',\n",
       "  1.0),\n",
       " ('0x9a98a1edd7b1c8e34a2d657eefa718d0f8434ac8',\n",
       "  '0x752f33363a7792b39c9423baf020df48ea450029',\n",
       "  1.0),\n",
       " ('0x9a98a1edd7b1c8e34a2d657eefa718d0f8434ac8',\n",
       "  '0xd3122003b777b0dcbdc75a1e28a58dece0b15a79',\n",
       "  1.0),\n",
       " ('0x9a98a1edd7b1c8e34a2d657eefa718d0f8434ac8',\n",
       "  '0xce19072e6c050900d2309d8d74107fea9558d9fe',\n",
       "  1.0),\n",
       " ('0x9a98a1edd7b1c8e34a2d657eefa718d0f8434ac8',\n",
       "  '0x9f5360225e59a35473340220b679ce89de567f41',\n",
       "  1.0),\n",
       " ('0x9a98a1edd7b1c8e34a2d657eefa718d0f8434ac8',\n",
       "  '0x771e3d20dd07df1295b9d4ebb149bca92ce2d923',\n",
       "  1.0),\n",
       " ('0x9a98a1edd7b1c8e34a2d657eefa718d0f8434ac8',\n",
       "  '0x8f9127cacaf2727004b47b81ea7f77fd75294a8f',\n",
       "  1.0),\n",
       " ('0x9a98a1edd7b1c8e34a2d657eefa718d0f8434ac8',\n",
       "  '0x7bd9652d9249a073595ef78488c2b3563ffeab0d',\n",
       "  1.0),\n",
       " ('0x9a98a1edd7b1c8e34a2d657eefa718d0f8434ac8',\n",
       "  '0x5bb2df19d80fe97df0fdf6fbf2588742e23603ec',\n",
       "  1.0),\n",
       " ('0x9a98a1edd7b1c8e34a2d657eefa718d0f8434ac8',\n",
       "  '0x5c93d34e5e18d25fed99df0771ecf7de322bed4e',\n",
       "  1.0),\n",
       " ('0x9a98a1edd7b1c8e34a2d657eefa718d0f8434ac8',\n",
       "  '0x8ff37da5926508c7c435b24bf9b89f7344dba7a2',\n",
       "  1.0),\n",
       " ('0x9a98a1edd7b1c8e34a2d657eefa718d0f8434ac8',\n",
       "  '0x1f0c1b15409294bd3af0a9571a472d0d5444e005',\n",
       "  1.0),\n",
       " ('0x9a98a1edd7b1c8e34a2d657eefa718d0f8434ac8',\n",
       "  '0xf02f24d3b531dcc7414df353ec13ff1c1c69045c',\n",
       "  1.0),\n",
       " ('0x9a98a1edd7b1c8e34a2d657eefa718d0f8434ac8',\n",
       "  '0xdaa65da48a9357350dae0e5be286e60a8309020b',\n",
       "  1.0),\n",
       " ('0x9a98a1edd7b1c8e34a2d657eefa718d0f8434ac8',\n",
       "  '0xa80eb51f9fad936c3bebd680832580079d01f0e8',\n",
       "  1.0),\n",
       " ('0x9a98a1edd7b1c8e34a2d657eefa718d0f8434ac8',\n",
       "  '0xfea7e334bbce704a481e0d7bbfc932c0d9d2fc45',\n",
       "  1.0),\n",
       " ('0x9a98a1edd7b1c8e34a2d657eefa718d0f8434ac8',\n",
       "  '0xab8310d812dd1ea7470e9798da7563f8476b72c1',\n",
       "  1.0),\n",
       " ('0x9a98a1edd7b1c8e34a2d657eefa718d0f8434ac8',\n",
       "  '0xa1e0c6a294ddb91fbb99ed8f60f3a86357a24e81',\n",
       "  1.0),\n",
       " ('0x9a98a1edd7b1c8e34a2d657eefa718d0f8434ac8',\n",
       "  '0xc9afdfb0e2d3b25a82422c300364c4bcce9ebea9',\n",
       "  1.0),\n",
       " ('0x9a98a1edd7b1c8e34a2d657eefa718d0f8434ac8',\n",
       "  '0x2819593826c5946d21e17ba3a1385b243c081a5e',\n",
       "  1.0),\n",
       " ('0x9a98a1edd7b1c8e34a2d657eefa718d0f8434ac8',\n",
       "  '0x80c899caf8c6581084237b9cc349bd0488ef7173',\n",
       "  1.0),\n",
       " ('0x9a98a1edd7b1c8e34a2d657eefa718d0f8434ac8',\n",
       "  '0xdfb7251a0e34bcd2266f665c595555ed69ba832e',\n",
       "  1.0),\n",
       " ('0x9a98a1edd7b1c8e34a2d657eefa718d0f8434ac8',\n",
       "  '0x63d5f4ac36bb75f677d5a0a83496616c3dee2c60',\n",
       "  1.0),\n",
       " ('0x9a98a1edd7b1c8e34a2d657eefa718d0f8434ac8',\n",
       "  '0x2a1bbcdff7a047d82fc8829faa0d13a8d2cf1dbe',\n",
       "  1.0),\n",
       " ('0x9a98a1edd7b1c8e34a2d657eefa718d0f8434ac8',\n",
       "  '0x94ec8e166221519f384f8263e001e7d0cba45765',\n",
       "  1.0),\n",
       " ('0x9a98a1edd7b1c8e34a2d657eefa718d0f8434ac8',\n",
       "  '0xfaa8fe91f1e6253766b23f1053e35bbdb2504aa7',\n",
       "  1.0),\n",
       " ('0x9a98a1edd7b1c8e34a2d657eefa718d0f8434ac8',\n",
       "  '0x66574f487f2972212c96a7b6f9d43e7fc6498a23',\n",
       "  1.0),\n",
       " ('0x9a98a1edd7b1c8e34a2d657eefa718d0f8434ac8',\n",
       "  '0x10495e143d79296d5222497b7245294dc9e2d596',\n",
       "  1.0),\n",
       " ('0x9a98a1edd7b1c8e34a2d657eefa718d0f8434ac8',\n",
       "  '0xeff4835c275384bcfbc21c3ff3f1a543a768c227',\n",
       "  1.0)]"
      ]
     },
     "execution_count": 62,
     "metadata": {},
     "output_type": "execute_result"
    }
   ],
   "source": [
    "jaccard_pred_users = []\n",
    "for j in jaccard_pred:\n",
    "    if j[2] != 0:\n",
    "        jaccard_pred_users.append(j)\n",
    "\n",
    "jaccard_pred_users = sorted(jaccard_pred_users, key=lambda x: x[2], reverse=True)"
   ]
  },
  {
   "cell_type": "code",
   "execution_count": 69,
   "metadata": {},
   "outputs": [],
   "source": [
    "for j in jaccard_pred:\n",
    "    Nu = set(G_bi.neighbors(j[0]))\n",
    "    Nv = set(G_bi.neighbors(j[1]))\n",
    "    \n",
    "    N_inter = Nu.intersection(Nv)\n",
    "    if len(N_inter) > min(len(Nu), len(Nv)):\n",
    "        print(j, Nu, Nv)\n"
   ]
  },
  {
   "cell_type": "code",
   "execution_count": 77,
   "metadata": {},
   "outputs": [
    {
     "data": {
      "image/png": "[encoded data removed]",
      "text/plain": [
       "<Figure size 432x288 with 2 Axes>"
      ]
     },
     "metadata": {
      "needs_background": "light"
     },
     "output_type": "display_data"
    }
   ],
   "source": [
    "ROC_PRC(pred_txs, G_bi)"
   ]
  },
  {
   "cell_type": "code",
   "execution_count": 70,
   "metadata": {},
   "outputs": [],
   "source": [
    "def MAP(G_test, G_pred, thres=0):\n",
    "    # calculate avePrecision for each node and its neighbors\n",
    "    avePs = []\n",
    "\n",
    "    # loop through every node\n",
    "    for node in tqdm(G_test.nodes()):\n",
    "        # get predicted edges sorted in ranking order\n",
    "        rankedPredWeights = sorted(\n",
    "            G_pred[node].items(), key=lambda x: -x[1]['weight'])\n",
    "        # only include edges that exist i.e. predicted rank / weight > threshold\n",
    "        rankedPred = filter(\n",
    "            lambda x: x[1]['weight'] > thres, rankedPredWeights)\n",
    "        # get the rank\n",
    "        pred = [x[0] for x in rankedPred]\n",
    "        # calculate rel (existence of predicted edge in the groundtruth/actual set of edges)\n",
    "        # get groundtruth neighbors\n",
    "        gt = set(G_test[node])\n",
    "        rel = np.array([x in gt for x in pred])\n",
    "        # calculate P accumulative average of precision\n",
    "        predLength = len(pred)\n",
    "        P = np.array([\n",
    "            sum(rel[:i+1])/len(rel[:i+1]) for i in range(predLength)\n",
    "        ])\n",
    "        # calculate aveP\n",
    "        aveP = (rel @ P)/len(gt)\n",
    "        # keep track of results\n",
    "        avePs.append(aveP)\n",
    "    MAPvalue = sum(avePs) / len(avePs)\n",
    "    print(\"MAP: {}\".format(MAPvalue))\n",
    "    return MAPvalue"
   ]
  },
  {
   "cell_type": "code",
   "execution_count": 75,
   "metadata": {},
   "outputs": [
    {
     "ename": "KeyboardInterrupt",
     "evalue": "",
     "output_type": "error",
     "traceback": [
      "\u001b[1;31m---------------------------------------------------------------------------\u001b[0m",
      "\u001b[1;31mKeyboardInterrupt\u001b[0m                         Traceback (most recent call last)",
      "\u001b[1;32m~\\AppData\\Local\\Temp/ipykernel_16032/3222247328.py\u001b[0m in \u001b[0;36m<module>\u001b[1;34m\u001b[0m\n\u001b[1;32m----> 1\u001b[1;33m \u001b[0mpred_sorted\u001b[0m \u001b[1;33m=\u001b[0m \u001b[0msorted\u001b[0m\u001b[1;33m(\u001b[0m\u001b[0mpred\u001b[0m\u001b[1;33m,\u001b[0m \u001b[0mkey\u001b[0m\u001b[1;33m=\u001b[0m\u001b[1;32mlambda\u001b[0m \u001b[0mx\u001b[0m\u001b[1;33m:\u001b[0m \u001b[0mx\u001b[0m\u001b[1;33m[\u001b[0m\u001b[1;36m2\u001b[0m\u001b[1;33m]\u001b[0m\u001b[1;33m,\u001b[0m \u001b[0mreverse\u001b[0m\u001b[1;33m=\u001b[0m\u001b[1;32mTrue\u001b[0m\u001b[1;33m)\u001b[0m\u001b[1;33m\u001b[0m\u001b[1;33m\u001b[0m\u001b[0m\n\u001b[0m\u001b[0;32m      2\u001b[0m \u001b[0mlen\u001b[0m\u001b[1;33m(\u001b[0m\u001b[0mpred_sorted\u001b[0m\u001b[1;33m)\u001b[0m\u001b[1;33m\u001b[0m\u001b[1;33m\u001b[0m\u001b[0m\n",
      "\u001b[1;32mcupy\\_core\\core.pyx\u001b[0m in \u001b[0;36mcupy._core.core.ndarray.__nonzero__\u001b[1;34m()\u001b[0m\n",
      "\u001b[1;32mcupy\\_core\\core.pyx\u001b[0m in \u001b[0;36mcupy._core.core.ndarray.get\u001b[1;34m()\u001b[0m\n",
      "\u001b[1;32m~\\AppData\\Local\\Programs\\Python\\Python39\\lib\\site-packages\\cupy\\_core\\syncdetect.py\u001b[0m in \u001b[0;36m_declare_synchronize\u001b[1;34m()\u001b[0m\n\u001b[0;32m     34\u001b[0m \u001b[1;33m\u001b[0m\u001b[0m\n\u001b[0;32m     35\u001b[0m \u001b[1;33m\u001b[0m\u001b[0m\n\u001b[1;32m---> 36\u001b[1;33m \u001b[1;32mdef\u001b[0m \u001b[0m_declare_synchronize\u001b[0m\u001b[1;33m(\u001b[0m\u001b[1;33m)\u001b[0m\u001b[1;33m:\u001b[0m\u001b[1;33m\u001b[0m\u001b[1;33m\u001b[0m\u001b[0m\n\u001b[0m\u001b[0;32m     37\u001b[0m     \u001b[1;31m# Raises DeviceSynchronized if device synchronization is disallowed in\u001b[0m\u001b[1;33m\u001b[0m\u001b[1;33m\u001b[0m\u001b[0m\n\u001b[0;32m     38\u001b[0m     \u001b[1;31m# the current thread.\u001b[0m\u001b[1;33m\u001b[0m\u001b[1;33m\u001b[0m\u001b[0m\n",
      "\u001b[1;31mKeyboardInterrupt\u001b[0m: "
     ]
    }
   ],
   "source": [
    "pred_sorted = sorted(pred, key=lambda x: x[2], reverse=True)\n",
    "len(pred_sorted)"
   ]
  },
  {
   "cell_type": "code",
   "execution_count": null,
   "metadata": {},
   "outputs": [],
   "source": [
    "pred_txs = pred_sorted[0:5000000]"
   ]
  },
  {
   "cell_type": "code",
   "execution_count": 73,
   "metadata": {},
   "outputs": [
    {
     "name": "stderr",
     "output_type": "stream",
     "text": [
      "100%|██████████| 1122/1122 [1:07:09<00:00,  3.59s/it]"
     ]
    },
    {
     "name": "stdout",
     "output_type": "stream",
     "text": [
      "MAP: 0.006444603610700727\n"
     ]
    },
    {
     "name": "stderr",
     "output_type": "stream",
     "text": [
      "\n"
     ]
    },
    {
     "data": {
      "text/plain": [
       "0.006444603610700727"
      ]
     },
     "execution_count": 73,
     "metadata": {},
     "output_type": "execute_result"
    }
   ],
   "source": [
    "G_pred = nx.Graph()\n",
    "G_pred.add_weighted_edges_from(pred_txs)\n",
    "\n",
    "MAP(B_test, G_pred)"
   ]
  },
  {
   "cell_type": "code",
   "execution_count": null,
   "metadata": {},
   "outputs": [],
   "source": []
  },
  {
   "cell_type": "code",
   "execution_count": 16,
   "metadata": {},
   "outputs": [
    {
     "data": {
      "text/plain": [
       "44724"
      ]
     },
     "execution_count": 16,
     "metadata": {},
     "output_type": "execute_result"
    }
   ],
   "source": []
  },
  {
   "cell_type": "code",
   "execution_count": null,
   "metadata": {},
   "outputs": [],
   "source": []
  }
 ],
 "metadata": {
  "interpreter": {
   "hash": "aee8b7b246df8f9039afb4144a1f6fd8d2ca17a180786b69acc140d282b71a49"
  },
  "kernelspec": {
   "display_name": "Python 3.10.1 64-bit",
   "language": "python",
   "name": "python3"
  },
  "language_info": {
   "codemirror_mode": {
    "name": "ipython",
    "version": 3
   },
   "file_extension": ".py",
   "mimetype": "text/x-python",
   "name": "python",
   "nbconvert_exporter": "python",
   "pygments_lexer": "ipython3",
   "version": "3.9.8"
  },
  "orig_nbformat": 4
 },
 "nbformat": 4,
 "nbformat_minor": 2
}
