{
 "cells": [
  {
   "cell_type": "code",
   "execution_count": 1,
   "metadata": {},
   "outputs": [],
   "source": [
    "import pandas as pd\n",
    "import networkx as nx\n",
    "from networkx.algorithms import bipartite\n",
    "import random\n",
    "\n",
    "import matplotlib as mlp\n",
    "import matplotlib.pyplot as plt\n",
    "import numpy as np\n",
    "from tqdm import tqdm\n",
    "from sklearn import metrics\n",
    "from scipy.optimize import curve_fit\n",
    "\n",
    "import control\n",
    "import make_query\n",
    "import mining\n",
    "import queries\n",
    "import utils\n",
    "import visualizations\n"
   ]
  },
  {
   "cell_type": "markdown",
   "metadata": {},
   "source": [
    "### Importing Temporal User Data from:\n",
    "- Uniswap\n",
    "- Compound\n",
    "- Decentraland\n",
    "- AAVE\n",
    "- Balancer\n",
    "- 1INCH\n",
    "\n",
    "The timeframe is from 1638334800 to 1648785600"
   ]
  },
  {
   "cell_type": "code",
   "execution_count": 2,
   "metadata": {},
   "outputs": [],
   "source": [
    "# Open all the data\n",
    "\n",
    "# Aggregate and add defi label\n",
    "\n",
    "# bipatite matching like with amazon"
   ]
  },
  {
   "cell_type": "code",
   "execution_count": 3,
   "metadata": {},
   "outputs": [],
   "source": [
    "aave = pd.read_csv(\"user_prediction_data/aave_data.csv\")\n",
    "axie = pd.read_csv(\"user_prediction_data/axie_data.csv\")\n",
    "balancer = pd.read_csv(\"user_prediction_data/balancer_data.csv\")\n",
    "compound = pd.read_csv(\"user_prediction_data/compound_data.csv\")\n",
    "decentraland = pd.read_csv(\"user_prediction_data/decentraland_data.csv\")\n",
    "oneInch = pd.read_csv(\"user_prediction_data/one_inch_data.csv\")\n",
    "uniswap = pd.read_csv(\"user_prediction_data/uniswap_data.csv\")\n"
   ]
  },
  {
   "cell_type": "code",
   "execution_count": 4,
   "metadata": {},
   "outputs": [],
   "source": [
    "def extract_users(df, col_name1, col_name2=\"\", time_col=\"timestamp\"):\n",
    "    users = df[[col_name1, time_col]]\n",
    "    users.columns = [\"address\", \"time\"]\n",
    "    \n",
    "    if col_name2 != \"\":\n",
    "        more_users = df[[col_name2, time_col]]\n",
    "        more_users.columns = [\"address\", \"time\"]\n",
    "        users = pd.concat([users, more_users], axis=0)\n",
    "    \n",
    "    users.drop_duplicates()\n",
    "    print(users.columns)\n",
    "    \n",
    "    return users\n"
   ]
  },
  {
   "cell_type": "code",
   "execution_count": 5,
   "metadata": {},
   "outputs": [
    {
     "name": "stdout",
     "output_type": "stream",
     "text": [
      "Index(['address', 'time'], dtype='object')\n",
      "Index(['address', 'time'], dtype='object')\n",
      "Index(['address', 'time'], dtype='object')\n",
      "Index(['address', 'time'], dtype='object')\n",
      "Index(['address', 'time'], dtype='object')\n",
      "Index(['address', 'time'], dtype='object')\n",
      "Index(['address', 'time'], dtype='object')\n"
     ]
    },
    {
     "name": "stderr",
     "output_type": "stream",
     "text": [
      "/var/folders/cs/cv1ys6cn52ld9z99yrbpcwbc0000gn/T/ipykernel_59676/2943698597.py:2: SettingWithCopyWarning: \n",
      "A value is trying to be set on a copy of a slice from a DataFrame.\n",
      "Try using .loc[row_indexer,col_indexer] = value instead\n",
      "\n",
      "See the caveats in the documentation: https://pandas.pydata.org/pandas-docs/stable/user_guide/indexing.html#returning-a-view-versus-a-copy\n",
      "  aave_users[\"DeFi_APP\"] = \"Aave\"\n",
      "/var/folders/cs/cv1ys6cn52ld9z99yrbpcwbc0000gn/T/ipykernel_59676/2943698597.py:6: SettingWithCopyWarning: \n",
      "A value is trying to be set on a copy of a slice from a DataFrame.\n",
      "Try using .loc[row_indexer,col_indexer] = value instead\n",
      "\n",
      "See the caveats in the documentation: https://pandas.pydata.org/pandas-docs/stable/user_guide/indexing.html#returning-a-view-versus-a-copy\n",
      "  balancer_users[\"DeFi_APP\"] = \"Balancer\"\n"
     ]
    }
   ],
   "source": [
    "aave_users = extract_users(aave, \"user.id\")\n",
    "aave_users[\"DeFi_APP\"] = \"Aave\"\n",
    "axie_users = extract_users(axie, \"from.id\", \"to.id\")\n",
    "axie_users[\"DeFi_APP\"] = \"Axie\"\n",
    "balancer_users = extract_users(balancer, \"userAddress.id\")\n",
    "balancer_users[\"DeFi_APP\"] = \"Balancer\"\n",
    "compound_users = extract_users(compound, \"to\", \"from\", \"blockTime\")\n",
    "compound_users[\"DeFi_APP\"] = \"Compound\"\n",
    "decentraland_users = extract_users(decentraland, \"buyer\", \"seller\")\n",
    "decentraland_users[\"DeFi_APP\"] = \"Decentraland\"\n",
    "one_inch_users = extract_users(oneInch, \"from.id\", \"to.id\")\n",
    "one_inch_users[\"DeFi_APP\"] = \"1Inch\"\n",
    "uniswap_users = extract_users(uniswap, \"sender\", \"to\")\n",
    "uniswap_users[\"DeFi_APP\"] = \"UniswapV2\"\n"
   ]
  },
  {
   "cell_type": "code",
   "execution_count": 6,
   "metadata": {},
   "outputs": [],
   "source": [
    "dfs = [aave_users, axie_users, balancer_users, compound_users, decentraland_users, one_inch_users, uniswap_users]\n",
    "\n",
    "user_data = pd.concat(dfs)\n",
    "\n",
    "#user_data.drop_duplicates(subset=user_data.columns.difference(['time']))\n"
   ]
  },
  {
   "cell_type": "code",
   "execution_count": 7,
   "metadata": {},
   "outputs": [
    {
     "name": "stdout",
     "output_type": "stream",
     "text": [
      "(301518, 3)\n",
      "(241214, 3)\n"
     ]
    }
   ],
   "source": [
    "sorted_user_data = user_data.sort_values(by = [\"time\"])\n",
    "print(sorted_user_data.shape)\n",
    "\n",
    "train_data = sorted_user_data.head(int(len(sorted_user_data)*(0.8)))\n",
    "print(train_data.shape)\n"
   ]
  },
  {
   "cell_type": "code",
   "execution_count": 8,
   "metadata": {},
   "outputs": [],
   "source": [
    "# this is generating a bipartite graph that is will have the the defi apps as one row and the addresses as another\n",
    "\n",
    "\n",
    "def generate_bipartite_graph(df, source, target, edge):\n",
    "    top = set(df[source])\n",
    "    bot = set(df[target])\n",
    "    \n",
    "    G_nums = nx.from_pandas_edgelist(\n",
    "        df, source, target, edge)\n",
    "    edges = G_nums.edges(data=True)\n",
    "    \n",
    "    G_bi = nx.Graph()\n",
    "    G_bi.add_nodes_from(top, bipartite=0)\n",
    "    G_bi.add_nodes_from(bot, bipartite=1)\n",
    "    G_bi.add_edges_from(edges)\n",
    "    print(G_bi)\n",
    "    \n",
    "    return G_bi\n",
    "\n",
    "\n"
   ]
  },
  {
   "cell_type": "code",
   "execution_count": 9,
   "metadata": {},
   "outputs": [
    {
     "name": "stdout",
     "output_type": "stream",
     "text": [
      "(8945, 3)\n",
      "Graph with 42266 nodes and 44724 edges\n"
     ]
    }
   ],
   "source": [
    "\n",
    "# Dataframe to get counts for the number of times a user used a platform\n",
    "df_count = sorted_user_data.groupby(\n",
    "    [\"address\", \"DeFi_APP\"], as_index=False).size()\n",
    "\n",
    "\n",
    "# testing on a random subset for visualization\n",
    "df_count_small = df_count.sample(frac=0.2)\n",
    "print(df_count_small.shape)\n",
    "\n",
    "# generating the bipartite graph\n",
    "G_bi = generate_bipartite_graph(df_count, \"DeFi_APP\", \"address\", \"size\")\n"
   ]
  },
  {
   "cell_type": "code",
   "execution_count": 10,
   "metadata": {},
   "outputs": [
    {
     "data": {
      "text/plain": [
       "True"
      ]
     },
     "execution_count": 10,
     "metadata": {},
     "output_type": "execute_result"
    }
   ],
   "source": [
    "#nx.draw(G_bi)\n",
    "nx.is_connected(G_bi)"
   ]
  },
  {
   "cell_type": "code",
   "execution_count": 11,
   "metadata": {},
   "outputs": [
    {
     "name": "stdout",
     "output_type": "stream",
     "text": [
      "Getting Layout\n",
      "Getting adjacency matrix\n",
      "[[0 0 0 ... 0 0 0]\n",
      " [0 0 0 ... 0 0 1]\n",
      " [0 0 0 ... 0 1 0]\n",
      " ...\n",
      " [0 0 0 ... 0 0 0]\n",
      " [0 0 1 ... 0 0 0]\n",
      " [0 1 0 ... 0 0 0]]\n"
     ]
    }
   ],
   "source": [
    "# get layout\n",
    "print(\"Getting Layout\")\n",
    "top = nx.bipartite.sets(G_bi)[0]\n",
    "pos = nx.bipartite_layout(G_bi, top)\n",
    "\n",
    "print(\"Getting adjacency matrix\")\n",
    "# get adjacency matrix\n",
    "A = nx.adjacency_matrix(G_bi)\n",
    "A = A.toarray()\n",
    "\n",
    "print(A)\n",
    "\n"
   ]
  },
  {
   "cell_type": "code",
   "execution_count": 12,
   "metadata": {},
   "outputs": [
    {
     "name": "stderr",
     "output_type": "stream",
     "text": [
      "/var/folders/cs/cv1ys6cn52ld9z99yrbpcwbc0000gn/T/ipykernel_59676/2499527120.py:4: DeprecationWarning: Sampling from a set deprecated\n",
      "since Python 3.9 and will be removed in a subsequent version.\n",
      "  edge_subset = random.sample(G_bi.edges(), int(proportion_edges * G_bi.number_of_edges()))\n"
     ]
    },
    {
     "name": "stdout",
     "output_type": "stream",
     "text": [
      "train: Graph with 42266 nodes and 33543 edges\n",
      "train: Graph with 11013 nodes and 11181 edges\n"
     ]
    }
   ],
   "source": [
    "# Remove 25% of the edges\n",
    "proportion_edges = 0.25\n",
    "# this is our test set\n",
    "edge_subset = random.sample(G_bi.edges(), int(proportion_edges * G_bi.number_of_edges()))\n",
    "\n",
    "# Create a copy of the graph and remove the edges\n",
    "B_train = G_bi.copy()\n",
    "B_train.remove_edges_from(edge_subset)\n",
    "print(\"train:\", B_train)\n",
    "\n",
    "B_test = nx.Graph()\n",
    "B_test.add_edges_from(edge_subset)\n",
    "print(\"train:\", B_test)\n"
   ]
  },
  {
   "cell_type": "code",
   "execution_count": 13,
   "metadata": {},
   "outputs": [],
   "source": [
    "def MAP(G_test, G_pred, thres=0):\n",
    "    # calculate avePrecision for each node and its neighbors\n",
    "    avePs = []\n",
    "\n",
    "    # loop through every node\n",
    "    for node in tqdm(G_test.nodes()):\n",
    "        # get predicted edges sorted in ranking order\n",
    "        rankedPredWeights = sorted(\n",
    "            G_pred[node].items(), key=lambda x: -x[1]['weight'])\n",
    "        # only include edges that exist i.e. predicted rank / weight > threshold\n",
    "        rankedPred = filter(\n",
    "            lambda x: x[1]['weight'] > thres, rankedPredWeights)\n",
    "        # get the rank\n",
    "        pred = [x[0] for x in rankedPred]\n",
    "        # calculate rel (existence of predicted edge in the groundtruth/actual set of edges)\n",
    "        # get groundtruth neighbors\n",
    "        gt = set(G_test[node])\n",
    "        rel = np.array([x in gt for x in pred])\n",
    "        # calculate P accumulative average of precision\n",
    "        predLength = len(pred)\n",
    "        P = np.array([\n",
    "            sum(rel[:i+1])/len(rel[:i+1]) for i in range(predLength)\n",
    "        ])\n",
    "        # calculate aveP\n",
    "        aveP = (rel @ P)/len(gt)\n",
    "        # keep track of results\n",
    "        avePs.append(aveP)\n",
    "    MAPvalue = sum(avePs) / len(avePs)\n",
    "    print(\"MAP: {}\".format(MAPvalue))\n",
    "    return MAPvalue\n",
    "\n",
    "\n",
    "def ROC_PRC(pred, G):\n",
    "    # prediction score\n",
    "    y_score = [p[2] for p in pred]\n",
    "    # groundtruth label\n",
    "    y_true = [G.has_edge(p[0], p[1]) for p in pred]\n",
    "    fig, (ax1, ax2) = plt.subplots(1, 2)\n",
    "    # precision-recall curve\n",
    "    fpr, tpr, thresholds = metrics.precision_recall_curve(y_true,  y_score)\n",
    "    ax1.plot(fpr, tpr)\n",
    "    ax1.set_title(\"Precision-Recall Curve\")\n",
    "    # receiver-operating characteristic curve\n",
    "    fpr, tpr, thresholds = metrics.roc_curve(y_true, y_score)\n",
    "    ax2.plot(fpr, tpr)\n",
    "    ax2.set_title(\"ROC Curve, AUC = {:.2f}\".format(\n",
    "        metrics.roc_auc_score(y_true, y_score)))\n",
    "\n",
    "    plt.show()\n"
   ]
  },
  {
   "cell_type": "code",
   "execution_count": null,
   "metadata": {},
   "outputs": [],
   "source": [
    "for algo in [\n",
    "    nx.resource_allocation_index,\n",
    "    nx.jaccard_coefficient,\n",
    "    nx.adamic_adar_index\n",
    "]:\n",
    "    print(algo)\n",
    "    pred = list(algo(B_train))\n",
    "    # create graph\n",
    "    G_pred = nx.Graph()\n",
    "    G_pred.add_weighted_edges_from(pred)\n",
    "    # visualise adjacency matrix\n",
    "    Apred = nx.adjacency_matrix(G_pred)\n",
    "    Apred = Apred.toarray()\n",
    "    #plt.imshow(Apred, cmap='Greys')\n",
    "    #plt.show()\n",
    "    # evaluation\n",
    "    print(\"Visualizations for\", algo)\n",
    "    ROC_PRC(pred, G_bi)\n",
    "    MAP(B_test, G_pred)\n"
   ]
  },
  {
   "cell_type": "markdown",
   "metadata": {},
   "source": [
    "We see that these methods will only predict existing edges between the same sets. This is because two vertices from different sets will never share common neighbors, resulting in a 0 MAP score. "
   ]
  },
  {
   "cell_type": "code",
   "execution_count": 14,
   "metadata": {},
   "outputs": [
    {
     "data": {
      "text/plain": [
       "(42266, 42266)"
      ]
     },
     "execution_count": 14,
     "metadata": {},
     "output_type": "execute_result"
    }
   ],
   "source": [
    "A_train = nx.adjacency_matrix(B_train)\n",
    "A_train = A_train.toarray()\n",
    "A_train.shape\n",
    "\n",
    "\n"
   ]
  },
  {
   "cell_type": "code",
   "execution_count": 15,
   "metadata": {},
   "outputs": [],
   "source": [
    "# eigenvalue decomposition\n",
    "V_train, U_train = np.linalg.eig(A_train)\n",
    "print(\"Found Eigenvalue Decomposition!\")\n",
    "# U.T * Atest * U\n",
    "target_V = U_train.T @ A @ U_train\n",
    "print(\"Found Target!\")\n",
    "# take only the diagonals\n",
    "target_V = np.diag(target_V)\n"
   ]
  },
  {
   "cell_type": "code",
   "execution_count": null,
   "metadata": {},
   "outputs": [],
   "source": []
  },
  {
   "cell_type": "code",
   "execution_count": null,
   "metadata": {},
   "outputs": [],
   "source": []
  },
  {
   "cell_type": "code",
   "execution_count": null,
   "metadata": {},
   "outputs": [],
   "source": []
  },
  {
   "cell_type": "code",
   "execution_count": null,
   "metadata": {},
   "outputs": [],
   "source": []
  },
  {
   "cell_type": "code",
   "execution_count": null,
   "metadata": {},
   "outputs": [],
   "source": []
  },
  {
   "cell_type": "code",
   "execution_count": 120,
   "metadata": {},
   "outputs": [
    {
     "data": {
      "text/html": [
       "<div>\n",
       "<style scoped>\n",
       "    .dataframe tbody tr th:only-of-type {\n",
       "        vertical-align: middle;\n",
       "    }\n",
       "\n",
       "    .dataframe tbody tr th {\n",
       "        vertical-align: top;\n",
       "    }\n",
       "\n",
       "    .dataframe thead th {\n",
       "        text-align: right;\n",
       "    }\n",
       "</style>\n",
       "<table border=\"1\" class=\"dataframe\">\n",
       "  <thead>\n",
       "    <tr style=\"text-align: right;\">\n",
       "      <th></th>\n",
       "      <th>address</th>\n",
       "      <th>DeFi_APP</th>\n",
       "      <th>size</th>\n",
       "      <th>time</th>\n",
       "    </tr>\n",
       "  </thead>\n",
       "  <tbody>\n",
       "    <tr>\n",
       "      <th>0</th>\n",
       "      <td>0x0000000000005117dd3a72e64a705198753fdd54</td>\n",
       "      <td>Aave</td>\n",
       "      <td>6</td>\n",
       "      <td>1638566584</td>\n",
       "    </tr>\n",
       "    <tr>\n",
       "      <th>1</th>\n",
       "      <td>0x0000000000005117dd3a72e64a705198753fdd54</td>\n",
       "      <td>Aave</td>\n",
       "      <td>6</td>\n",
       "      <td>1638566584</td>\n",
       "    </tr>\n",
       "    <tr>\n",
       "      <th>2</th>\n",
       "      <td>0x0000000000005117dd3a72e64a705198753fdd54</td>\n",
       "      <td>Aave</td>\n",
       "      <td>6</td>\n",
       "      <td>1639735972</td>\n",
       "    </tr>\n",
       "    <tr>\n",
       "      <th>3</th>\n",
       "      <td>0x0000000000005117dd3a72e64a705198753fdd54</td>\n",
       "      <td>Aave</td>\n",
       "      <td>6</td>\n",
       "      <td>1639735972</td>\n",
       "    </tr>\n",
       "    <tr>\n",
       "      <th>4</th>\n",
       "      <td>0x0000000000005117dd3a72e64a705198753fdd54</td>\n",
       "      <td>Aave</td>\n",
       "      <td>6</td>\n",
       "      <td>1642881225</td>\n",
       "    </tr>\n",
       "    <tr>\n",
       "      <th>...</th>\n",
       "      <td>...</td>\n",
       "      <td>...</td>\n",
       "      <td>...</td>\n",
       "      <td>...</td>\n",
       "    </tr>\n",
       "    <tr>\n",
       "      <th>241209</th>\n",
       "      <td>0xffffa57756e1c19c1e0026487559982e721cffff</td>\n",
       "      <td>Compound</td>\n",
       "      <td>8</td>\n",
       "      <td>1640148472</td>\n",
       "    </tr>\n",
       "    <tr>\n",
       "      <th>241210</th>\n",
       "      <td>0xffffa57756e1c19c1e0026487559982e721cffff</td>\n",
       "      <td>Compound</td>\n",
       "      <td>8</td>\n",
       "      <td>1640148472</td>\n",
       "    </tr>\n",
       "    <tr>\n",
       "      <th>241211</th>\n",
       "      <td>0xffffa57756e1c19c1e0026487559982e721cffff</td>\n",
       "      <td>Compound</td>\n",
       "      <td>8</td>\n",
       "      <td>1640148472</td>\n",
       "    </tr>\n",
       "    <tr>\n",
       "      <th>241212</th>\n",
       "      <td>0xffffa57756e1c19c1e0026487559982e721cffff</td>\n",
       "      <td>Compound</td>\n",
       "      <td>8</td>\n",
       "      <td>1640148472</td>\n",
       "    </tr>\n",
       "    <tr>\n",
       "      <th>241213</th>\n",
       "      <td>0xffffa57756e1c19c1e0026487559982e721cffff</td>\n",
       "      <td>Compound</td>\n",
       "      <td>8</td>\n",
       "      <td>1640213520</td>\n",
       "    </tr>\n",
       "  </tbody>\n",
       "</table>\n",
       "<p>241214 rows × 4 columns</p>\n",
       "</div>"
      ],
      "text/plain": [
       "                                           address  DeFi_APP  size        time\n",
       "0       0x0000000000005117dd3a72e64a705198753fdd54      Aave     6  1638566584\n",
       "1       0x0000000000005117dd3a72e64a705198753fdd54      Aave     6  1638566584\n",
       "2       0x0000000000005117dd3a72e64a705198753fdd54      Aave     6  1639735972\n",
       "3       0x0000000000005117dd3a72e64a705198753fdd54      Aave     6  1639735972\n",
       "4       0x0000000000005117dd3a72e64a705198753fdd54      Aave     6  1642881225\n",
       "...                                            ...       ...   ...         ...\n",
       "241209  0xffffa57756e1c19c1e0026487559982e721cffff  Compound     8  1640148472\n",
       "241210  0xffffa57756e1c19c1e0026487559982e721cffff  Compound     8  1640148472\n",
       "241211  0xffffa57756e1c19c1e0026487559982e721cffff  Compound     8  1640148472\n",
       "241212  0xffffa57756e1c19c1e0026487559982e721cffff  Compound     8  1640148472\n",
       "241213  0xffffa57756e1c19c1e0026487559982e721cffff  Compound     8  1640213520\n",
       "\n",
       "[241214 rows x 4 columns]"
      ]
     },
     "execution_count": 120,
     "metadata": {},
     "output_type": "execute_result"
    }
   ],
   "source": [
    "# Looking at adding duplicates as teh weights --  imporvement is using freq and value transfered as weight\n",
    "\n",
    "train_data_duplic_weights = train_data.groupby([\"address\", \"DeFi_APP\"], as_index=False).size()\n",
    "train_data_duplic_weights = train_data_duplic_weights.merge(train_data, how=\"left\")\n",
    "train_data_duplic_weights\n"
   ]
  },
  {
   "cell_type": "code",
   "execution_count": 9,
   "metadata": {},
   "outputs": [
    {
     "name": "stdout",
     "output_type": "stream",
     "text": [
      "Graph with 42266 nodes and 44724 edges\n"
     ]
    }
   ],
   "source": [
    "G = nx.from_pandas_edgelist(\n",
    "    sorted_user_data, \"address\", \"DeFi_APP\", True)\n",
    "print(G)\n"
   ]
  },
  {
   "cell_type": "code",
   "execution_count": 122,
   "metadata": {},
   "outputs": [],
   "source": [
    "edges = sorted(G.edges(data=True), key=lambda t: t[2].get('time', 1))\n"
   ]
  },
  {
   "cell_type": "code",
   "execution_count": 127,
   "metadata": {},
   "outputs": [],
   "source": [
    "G_pred = nx.MultiGraph()\n",
    "\n",
    "\n",
    "t_0 = G.size() / 4\n",
    "counter = 0\n",
    "max_k = 0\n",
    "\n",
    "users = set()\n",
    "apps = set()\n"
   ]
  },
  {
   "cell_type": "code",
   "execution_count": 74,
   "metadata": {},
   "outputs": [
    {
     "ename": "NameError",
     "evalue": "name 'G_pred' is not defined",
     "output_type": "error",
     "traceback": [
      "\u001b[0;31m---------------------------------------------------------------------------\u001b[0m",
      "\u001b[0;31mNameError\u001b[0m                                 Traceback (most recent call last)",
      "\u001b[1;32m/Users/jaredgridley/Dropbox/GraphMining/Project/predicting_users.ipynb Cell 21'\u001b[0m in \u001b[0;36m<module>\u001b[0;34m\u001b[0m\n\u001b[1;32m      <a href='vscode-notebook-cell:/Users/jaredgridley/Dropbox/GraphMining/Project/predicting_users.ipynb#ch0000012?line=0'>1</a>\u001b[0m \u001b[39mfor\u001b[39;00m e \u001b[39min\u001b[39;00m edges:\n\u001b[0;32m----> <a href='vscode-notebook-cell:/Users/jaredgridley/Dropbox/GraphMining/Project/predicting_users.ipynb#ch0000012?line=2'>3</a>\u001b[0m     G_pred\u001b[39m.\u001b[39madd_edge(e[\u001b[39m0\u001b[39m], e[\u001b[39m1\u001b[39m], attr\u001b[39m=\u001b[39me[\u001b[39m2\u001b[39m])\n\u001b[1;32m      <a href='vscode-notebook-cell:/Users/jaredgridley/Dropbox/GraphMining/Project/predicting_users.ipynb#ch0000012?line=3'>4</a>\u001b[0m     apps\u001b[39m.\u001b[39madd(e[\u001b[39m0\u001b[39m])\n\u001b[1;32m      <a href='vscode-notebook-cell:/Users/jaredgridley/Dropbox/GraphMining/Project/predicting_users.ipynb#ch0000012?line=4'>5</a>\u001b[0m     users\u001b[39m.\u001b[39madd(e[\u001b[39m1\u001b[39m])\n",
      "\u001b[0;31mNameError\u001b[0m: name 'G_pred' is not defined"
     ]
    }
   ],
   "source": [
    "for e in edges:\n",
    "\n",
    "    G_pred.add_edge(e[0], e[1], attr=e[2])\n",
    "    apps.add(e[0])\n",
    "    users.add(e[1])\n",
    "\n",
    "    \n",
    "    if counter % 10000 == 0:\n",
    "        print((\"(Update)\\t Counter\", str(counter)))\n",
    "        \n",
    "    counter += 1\n",
    "    if counter > t_0:\n",
    "\n",
    "        dmax = sorted([d for n, d in G_pred.degree()], reverse=True)[0]\n",
    "\n",
    "        User_preds = set()\n",
    "        for v in users:\n",
    "            for u in users:\n",
    "                if u != v:\n",
    "\n",
    "                    Nu = set(G_pred.neighbors(u))\n",
    "                    Nv = set(G_pred.neighbors(v))   \n",
    "                    print(\"u\", u)\n",
    "                    print(\"v\", v)\n",
    "                    print(\"Nu\", Nu)\n",
    "                    print(\"Nv\", Nv)\n",
    "                    print(G_pred.has_edge(v, u))\n",
    "                    \n",
    "                    if G_pred.has_edge(v, u) == False:\n",
    "\n",
    "                        #print(len(Nv.intersection(Nu)), len(Nv.union(Nu)))\n",
    "                        k = len(Nv.intersection(Nu)) / len(Nv.union(Nu))\n",
    "\n",
    "                        if k > 0.5:\n",
    "                            User_preds.add((v, u, k*5, 0))\n",
    "            break\n",
    "        break\n",
    "    \n",
    "print(G_pred)\n",
    "print(len(users), len(apps))\n"
   ]
  },
  {
   "cell_type": "code",
   "execution_count": 139,
   "metadata": {},
   "outputs": [],
   "source": [
    "up_sample = list(User_preds)[0:100000]"
   ]
  },
  {
   "cell_type": "code",
   "execution_count": 165,
   "metadata": {},
   "outputs": [
    {
     "name": "stdout",
     "output_type": "stream",
     "text": [
      "{'Decentraland'} {'Decentraland'} 0\n"
     ]
    }
   ],
   "source": [
    "import math\n",
    "CN_preds = {}\n",
    "AA_preds = {}\n",
    "PA_preds = {}\n",
    "TC_preds = {}\n",
    "c = 0\n",
    "for u in User_preds:\n",
    "\n",
    "    frw = u[2]\n",
    "    Nu = set(G_pred.neighbors(u[0]))\n",
    "    Nfr = set(G_pred.neighbors(u[1]))\n",
    "    print(Nu, Nfr, frw)\n",
    "    \n",
    "    \n",
    "    N_inter = Nu.intersection(Nfr)\n",
    "\n",
    "    Np = Nfr - Nu\n",
    "\n",
    "    # ---------- Common Neighbors ----------------\n",
    "    cn = len(N_inter)\n",
    "    for prod in Np:\n",
    "        if (u[0], prod) in CN_preds:\n",
    "            CN_preds[(u[0], prod)] += cn * frw\n",
    "        else:\n",
    "            CN_preds[(u[0], prod)] = cn * frw\n",
    "    break\n",
    "    # ---------- Adamic-Adar ---------------------\n",
    "    Au = 0\n",
    "    for prod in N_inter:\n",
    "        Au += 1/math.log(abs(len(set(G_pred.neighbors(prod)))))\n",
    "        # Check that this is log10 or ln\n",
    "\n",
    "    for prod in Np:\n",
    "        if (u[0], prod) in AA_preds:\n",
    "            AA_preds[(u[0], prod)] += Au * frw\n",
    "        else:\n",
    "            AA_preds[(u[0], prod)] = Au * frw\n",
    "\n",
    "    # ---------- Peferential Attachment ----------\n",
    "    PA = len(Nu) * len(Nfr)\n",
    "    for prod in Np:\n",
    "        if (u[0], prod) in PA_preds:\n",
    "            PA_preds[(u[0], prod)] += PA * frw\n",
    "        else:\n",
    "            PA_preds[(u[0], prod)] = PA * frw\n",
    "    \n",
    "    # ---------- Strong Triadic Closure ----------\n",
    "    diffs = 0.00001\n",
    "    for prod in N_inter:\n",
    "        e1 = G_pred.get_edge_data(u[0], prod)[0][\"attr\"][\"size\"]\n",
    "        e2 = G_pred.get_edge_data(u[1], prod)[0][\"attr\"][\"size\"]\n",
    "\n",
    "        diffs += abs(e2-e1)\n",
    "\n",
    "    TC = diffs\n",
    "\n",
    "    for prod in Np:\n",
    "        if (u[0], prod) in TC_preds:\n",
    "            TC_preds[(u[0], prod)] += TC\n",
    "        else:\n",
    "            TC_preds[(u[0], prod)] = TC\n",
    "    if c% 1000000 == 0:\n",
    "        print(\"(Update)\\t Completed {0}/{1}\".format(c, len(User_preds)))\n",
    "    c+=1\n",
    "    \n"
   ]
  },
  {
   "cell_type": "code",
   "execution_count": 148,
   "metadata": {},
   "outputs": [],
   "source": [
    "num_CN = 0\n",
    "correct_CN = 0\n",
    "for k, v in sorted(CN_preds.items(), key=lambda item: item[1], reverse=True):\n",
    "    if num_CN < 100 and (G.has_edge(k[0], k[1])):\n",
    "        correct_CN += 1\n",
    "    num_CN += 1\n",
    "\n",
    "num_AA = 0\n",
    "correct_AA = 0\n",
    "for k, v in sorted(AA_preds.items(), key=lambda item: item[1], reverse=True):\n",
    "    if num_AA < 100 and (G.has_edge(k[0], k[1])):\n",
    "        correct_AA += 1\n",
    "    num_AA += 1\n",
    "\n",
    "num_PA = 0\n",
    "correct_PA = 0\n",
    "for k, v in sorted(PA_preds.items(), key=lambda item: item[1], reverse=True):\n",
    "    if num_PA < 100 and (G.has_edge(k[0], k[1])):\n",
    "        correct_PA += 1\n",
    "    num_PA += 1\n",
    "\n",
    "num_TC = 0\n",
    "correct_TC = 0\n",
    "for k, v in sorted(TC_preds.items(), key=lambda item: item[1], reverse=False):\n",
    "    if num_TC < 100 and (G.has_edge(k[0], k[1])):\n",
    "        correct_TC += 1\n",
    "    num_TC += 1\n"
   ]
  },
  {
   "cell_type": "code",
   "execution_count": 149,
   "metadata": {},
   "outputs": [
    {
     "name": "stdout",
     "output_type": "stream",
     "text": [
      "Precision common neighbors: 0.0\n",
      "Precision Adamic/Adar: 0.0\n",
      "Precision preferential attachment: 0.0\n",
      "Precision triadic closure: 0.0\n"
     ]
    }
   ],
   "source": [
    "precision_common_neighbors = correct_CN/100\n",
    "precision_adamic_adar = correct_AA/100\n",
    "precision_pref_attachment = correct_PA/100\n",
    "precision_triadic_closure = correct_TC/100\n",
    "precision_personal_pagerank = 0.0\n",
    "\n",
    "'''\n",
    "Note: When i was experimenting with my results, I found that some of the\n",
    "predicted edges with lower confidences were also correct, but were not \n",
    "picked up by the first 100.\n",
    "'''\n",
    "\n",
    "print(\"Precision common neighbors:\", round(precision_common_neighbors, 4))\n",
    "print(\"Precision Adamic/Adar:\", round(precision_adamic_adar, 4))\n",
    "print(\"Precision preferential attachment:\",\n",
    "      round(precision_pref_attachment, 4))\n",
    "print(\"Precision triadic closure:\", round(precision_triadic_closure, 4))\n",
    "\n"
   ]
  },
  {
   "cell_type": "code",
   "execution_count": 161,
   "metadata": {},
   "outputs": [
    {
     "name": "stdout",
     "output_type": "stream",
     "text": [
      "[('0x4091243e3fb5e637d06c265c6eae1be7fb8460ce', '0x25fa459d179a73d66e977f22549563b92b3b9fbe', 5.0, 0), ('0x5eee6df063f6342994ccb8e5703f4e8961aa95cc', '0x74ec638d8e82ab4e7aacac77ef47a49e735ca7dd', 5.0, 0), ('0x5fcbbbaf2fe41036b4dc9f7b755746649f50c279', '0x5d25b9b5feafdce5f5fcc90b1f355249e50069e4', 5.0, 0), ('0xa3c04160d9ed4aefe11703e6584c43e97401beb2', '0x27ea64f3ea40a00e27198a248ed22b31579b3932', 5.0, 0), ('0x43b2cc9004630b2912abbce0fdf09ff5a3cc144b', '0xf06d597358fb28f86dd7eca8cad9a880cff60d2c', 5.0, 0), ('0xbd941a4b13e9343961dd135cf8226aedce565b72', '0x7b523a0c714988e5c4acaa71198ef0b52e0fb6b0', 5.0, 0), ('0x93ce08934372b78ba566151d0e02fa299a17ce80', '0xf667afda0c1cafcffca6ea6027b1c932f6dc7913', 5.0, 0), ('0xf749c623fabde451d480e79c6311ed6c62f2ab8c', '0xae6af1f93f7554e68ac48032eba670e1dc6b6c49', 5.0, 0), ('0x8962a5b11469f103f198978570024e18d15a1a30', '0xa9f35f607e2252084db230ff7ad50e57a946ab12', 5.0, 0), ('0x51607e7ad4d0cb771139c5190420387d67b1e1d6', '0x1f618d91dee238312552aeba562956cfd8915841', 5.0, 0), ('0x5b23e1bb152ae1f844da9ce15e068043ba10adc7', '0xdb456dc51aeef321b90f9a73c69ad4605620d0b4', 5.0, 0), ('0x9f4ee4890da607131553e5c9c022f631bca946f7', '0xff54308621eeddf887aa2d1470b480e2c0a195f5', 5.0, 0), ('0x9126273393f7c9fd98b970f527f5d1f45cb86be3', '0xa85fc736cfbc61cd1cb2c6b8148fa88464f62315', 5.0, 0), ('0x412d176e2240924d3e30580dc8c936f76c051a61', '0x973fc0bdfde4a1bac042b5ef61912eab38e51167', 5.0, 0), ('0x7af83a00bc192066be99ecf194ed425f0d3bf0d4', '0x59d2c715ab5beeca6649b8d4b5f45072edc37073', 5.0, 0), ('0x2e4c3fdf26fc81aba5da64978f170b484d94172e', '0x8721aa89f6dd2fd0a4defd2c06105b2f1124e47a', 5.0, 0), ('0xa9bd01b23dcc97851cb617cbeb89612b72ae9d15', '0x91d425115156d5f36dccf9dc3be13062b7b2fe71', 5.0, 0), ('0x8f3df14cb1ddb3b866cb1a82975ba7f300de8f49', '0x87e225ee673dedb378ee378d758b941dbd79b6af', 5.0, 0), ('0x47114315c3e6e6c5bfe5089845444d7d84cf6d08', '0x6fa1bde70508e0045dee389259a30664a3c46a7d', 5.0, 0), ('0xa66728c54d7f6c0d9a86c540d3d06cb6699799a3', '0xf05dbc40256052951605fd13767c37a7e496f434', 5.0, 0), ('0x463263bacc24813c4820031b2438174678a2c480', '0xb57e4f81683bd4ba7a07efaedec275af247bc510', 5.0, 0), ('0x76149d87a6ba9ea3c864d0643210e71393dd7777', '0x885f12b525218ca9377755f9a534ce230ac5d2d8', 5.0, 0), ('0x92ae7e6d205abccf1a507e128576fdae7da7994b', '0x32b0f9fb49aa69c12511de1cb01cac72106ad537', 5.0, 0), ('0x777dde3eb926b15bd57495fab77484bff7edef53', '0x7f65f117b6d4c1372b0e7b51a5419f60a186cce1', 5.0, 0), ('0x234d57f5b5accd54c3997a2021b4370f212c7a40', '0x023c4a69343f8ede71dda1828e67136f63a9f490', 5.0, 0)]\n"
     ]
    }
   ],
   "source": [
    "print(list(User_preds)[10000000:10000025])\n"
   ]
  },
  {
   "cell_type": "markdown",
   "metadata": {},
   "source": [
    "pairs = [(\"0xe28e120834378746dd68a4f0b0ed6a4876352197\", \"0x75b0955d5727148816479881b7dd4cc646af27bb\"), (\"0xff618ea63335397a8acc2baf809701a865089489\", \"0x40486a01e98842821dd628084a99f67d9a80ebd2\")]"
   ]
  },
  {
   "cell_type": "code",
   "execution_count": 162,
   "metadata": {},
   "outputs": [
    {
     "data": {
      "text/html": [
       "<div>\n",
       "<style scoped>\n",
       "    .dataframe tbody tr th:only-of-type {\n",
       "        vertical-align: middle;\n",
       "    }\n",
       "\n",
       "    .dataframe tbody tr th {\n",
       "        vertical-align: top;\n",
       "    }\n",
       "\n",
       "    .dataframe thead th {\n",
       "        text-align: right;\n",
       "    }\n",
       "</style>\n",
       "<table border=\"1\" class=\"dataframe\">\n",
       "  <thead>\n",
       "    <tr style=\"text-align: right;\">\n",
       "      <th></th>\n",
       "      <th>address</th>\n",
       "      <th>time</th>\n",
       "      <th>DeFi_APP</th>\n",
       "    </tr>\n",
       "  </thead>\n",
       "  <tbody>\n",
       "    <tr>\n",
       "      <th>826</th>\n",
       "      <td>0x4091243e3fb5e637d06c265c6eae1be7fb8460ce</td>\n",
       "      <td>1582024460</td>\n",
       "      <td>Decentraland</td>\n",
       "    </tr>\n",
       "    <tr>\n",
       "      <th>14692</th>\n",
       "      <td>0x25fa459d179a73d66e977f22549563b92b3b9fbe</td>\n",
       "      <td>1625343152</td>\n",
       "      <td>Decentraland</td>\n",
       "    </tr>\n",
       "    <tr>\n",
       "      <th>24386</th>\n",
       "      <td>0x4091243e3fb5e637d06c265c6eae1be7fb8460ce</td>\n",
       "      <td>1642969311</td>\n",
       "      <td>Compound</td>\n",
       "    </tr>\n",
       "  </tbody>\n",
       "</table>\n",
       "</div>"
      ],
      "text/plain": [
       "                                          address        time      DeFi_APP\n",
       "826    0x4091243e3fb5e637d06c265c6eae1be7fb8460ce  1582024460  Decentraland\n",
       "14692  0x25fa459d179a73d66e977f22549563b92b3b9fbe  1625343152  Decentraland\n",
       "24386  0x4091243e3fb5e637d06c265c6eae1be7fb8460ce  1642969311      Compound"
      ]
     },
     "execution_count": 162,
     "metadata": {},
     "output_type": "execute_result"
    }
   ],
   "source": [
    "sorted_user_data.loc[sorted_user_data[\"address\"].isin(\n",
    "    [\"0x4091243e3fb5e637d06c265c6eae1be7fb8460ce\", \"0x25fa459d179a73d66e977f22549563b92b3b9fbe\"])]\n",
    "\n",
    "# This is missing a 1inch graph exchange row. \n"
   ]
  },
  {
   "cell_type": "code",
   "execution_count": 18,
   "metadata": {},
   "outputs": [
    {
     "data": {
      "text/plain": [
       "'0x15fa2492b93a2f70772202835229f7ede0865a73'"
      ]
     },
     "execution_count": 18,
     "metadata": {},
     "output_type": "execute_result"
    }
   ],
   "source": [
    "Nu = list(set(G.neighbors(\"Decentraland\")))\n",
    "Nu[0]"
   ]
  },
  {
   "cell_type": "code",
   "execution_count": 16,
   "metadata": {},
   "outputs": [
    {
     "data": {
      "text/plain": [
       "44724"
      ]
     },
     "execution_count": 16,
     "metadata": {},
     "output_type": "execute_result"
    }
   ],
   "source": []
  },
  {
   "cell_type": "code",
   "execution_count": null,
   "metadata": {},
   "outputs": [],
   "source": []
  }
 ],
 "metadata": {
  "interpreter": {
   "hash": "aee8b7b246df8f9039afb4144a1f6fd8d2ca17a180786b69acc140d282b71a49"
  },
  "kernelspec": {
   "display_name": "Python 3.10.1 64-bit",
   "language": "python",
   "name": "python3"
  },
  "language_info": {
   "codemirror_mode": {
    "name": "ipython",
    "version": 3
   },
   "file_extension": ".py",
   "mimetype": "text/x-python",
   "name": "python",
   "nbconvert_exporter": "python",
   "pygments_lexer": "ipython3",
   "version": "3.10.1"
  },
  "orig_nbformat": 4
 },
 "nbformat": 4,
 "nbformat_minor": 2
}
